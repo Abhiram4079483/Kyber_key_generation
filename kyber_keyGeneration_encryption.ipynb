{
 "cells": [
  {
   "cell_type": "code",
   "execution_count": 1,
   "id": "42c5377b",
   "metadata": {},
   "outputs": [],
   "source": [
    "import random\n",
    "import numpy as np\n",
    "from numpy.polynomial import Polynomial as poly\n",
    "import math"
   ]
  },
  {
   "cell_type": "code",
   "execution_count": 2,
   "id": "b8ca9810",
   "metadata": {},
   "outputs": [],
   "source": [
    "message=11\n",
    "q=17"
   ]
  },
  {
   "cell_type": "code",
   "execution_count": 3,
   "id": "e33f806c",
   "metadata": {},
   "outputs": [],
   "source": [
    "g=[1,0,0,0,1]\n",
    "h=poly(g)"
   ]
  },
  {
   "cell_type": "code",
   "execution_count": 4,
   "id": "231c2b7b",
   "metadata": {},
   "outputs": [],
   "source": [
    "# generating coefficients for the polynomial\n",
    "def generateCoefficient(q,n):\n",
    "    coeff=[random.randint(1,10000)%q for i in range(n)]\n",
    "    return coeff"
   ]
  },
  {
   "cell_type": "code",
   "execution_count": 5,
   "id": "56894863",
   "metadata": {},
   "outputs": [],
   "source": [
    "# generating the matrix A \n",
    "def publicKey1(n):\n",
    "    A=np.array([poly(generateCoefficient(17,n)) for i in range(n)]).reshape(2,2)\n",
    "    return A"
   ]
  },
  {
   "cell_type": "code",
   "execution_count": 6,
   "id": "9a1f864e",
   "metadata": {},
   "outputs": [],
   "source": [
    "# generating the private key and error vector\n",
    "def publicKey2(n,e):\n",
    "    d=[]\n",
    "    for i in range(e):\n",
    "        m=generateCoefficient(17,n)\n",
    "        m.insert(0,0)\n",
    "        d.append(m)\n",
    "    A=np.array([poly(i) for i in d])\n",
    "    return A"
   ]
  },
  {
   "cell_type": "code",
   "execution_count": 7,
   "id": "1cc0a7fb",
   "metadata": {},
   "outputs": [
    {
     "data": {
      "text/plain": [
       "array([[Polynomial([ 8., 13.,  8., 10.], domain=[-1,  1], window=[-1,  1]),\n",
       "        Polynomial([ 2., 10.,  0., 12.], domain=[-1,  1], window=[-1,  1])],\n",
       "       [Polynomial([9., 9., 4., 8.], domain=[-1,  1], window=[-1,  1]),\n",
       "        Polynomial([11.,  4.,  9.,  4.], domain=[-1,  1], window=[-1,  1])]],\n",
       "      dtype=object)"
      ]
     },
     "execution_count": 7,
     "metadata": {},
     "output_type": "execute_result"
    }
   ],
   "source": [
    "A=publicKey1(4)\n",
    "s=publicKey2(3,2)\n",
    "e=publicKey2(2,2)\n",
    "A"
   ]
  },
  {
   "cell_type": "code",
   "execution_count": 8,
   "id": "656cb53f",
   "metadata": {},
   "outputs": [],
   "source": [
    "def matrixMultiplication1(n,A,s): \n",
    "    final=[]\n",
    "    for i in range(n):\n",
    "        l=[]\n",
    "        for k in range(n):\n",
    "            if(i==k):\n",
    "                l.append(np.polymul(A[i],s[k]))\n",
    "    final.append(l[0])\n",
    "    return final"
   ]
  },
  {
   "cell_type": "code",
   "execution_count": 9,
   "id": "d0872907",
   "metadata": {},
   "outputs": [],
   "source": [
    "def matrixMultiplication(n,A,s): \n",
    "    final=[]\n",
    "    for i in range(n):\n",
    "        l=[]\n",
    "        for j in range(n):\n",
    "            for k in range(n):\n",
    "                if(j==k):\n",
    "                    l.append(np.polymul(A[i][j],s[k]))\n",
    "        final.append(np.polyadd(l[0],l[1]))\n",
    "    return final"
   ]
  },
  {
   "cell_type": "code",
   "execution_count": 10,
   "id": "bb617bd0",
   "metadata": {},
   "outputs": [],
   "source": [
    "def padd(n,As,e):\n",
    "    t=[]\n",
    "    for i in range(n):\n",
    "        t.append(np.polyadd(As[i],e[i])[0])\n",
    "    return t"
   ]
  },
  {
   "cell_type": "code",
   "execution_count": 11,
   "id": "3ece661d",
   "metadata": {},
   "outputs": [],
   "source": [
    "def closestNum(arr):\n",
    "    finNum=\"\"\n",
    "    for i in arr:\n",
    "        if(abs(i-9) < abs(i)):\n",
    "            finNum+=\"1\"\n",
    "        else:\n",
    "            finNum+=\"0\"\n",
    "    return finNum"
   ]
  },
  {
   "cell_type": "code",
   "execution_count": 12,
   "id": "314aed1e",
   "metadata": {},
   "outputs": [],
   "source": [
    "def binaryToDecimal(binary):\n",
    " \n",
    "    decimal, i = 0, 0\n",
    "    while(binary != 0):\n",
    "        dec = binary % 10\n",
    "        decimal = decimal + dec * pow(2, i)\n",
    "        binary = binary//10\n",
    "        i += 1\n",
    "    print(decimal)"
   ]
  },
  {
   "cell_type": "code",
   "execution_count": 13,
   "id": "69f41ed0",
   "metadata": {},
   "outputs": [
    {
     "data": {
      "text/plain": [
       "[Polynomial([5., 3., 1., 2.], domain=[-1,  1], window=[-1,  1]),\n",
       " Polynomial([ 3.,  9.,  2., 12.], domain=[-1,  1], window=[-1,  1])]"
      ]
     },
     "execution_count": 13,
     "metadata": {},
     "output_type": "execute_result"
    }
   ],
   "source": [
    "y=matrixMultiplication(2,A,s)\n",
    "\n",
    "As=[]\n",
    "for i in y:\n",
    "    As.append(poly(np.polydiv(i[0].coef,g)[1]%q))\n",
    "\n",
    "As"
   ]
  },
  {
   "cell_type": "code",
   "execution_count": 14,
   "id": "8bcd6b20",
   "metadata": {},
   "outputs": [],
   "source": [
    "t=padd(2,As,e)"
   ]
  },
  {
   "cell_type": "code",
   "execution_count": 15,
   "id": "c5b07151",
   "metadata": {},
   "outputs": [
    {
     "name": "stdout",
     "output_type": "stream",
     "text": [
      "Private Key:  [array([Polynomial([ 0.,  6., 12.,  1.], domain=[-1,  1], window=[-1,  1]),\n",
      "       Polynomial([ 0., 12., 11.,  3.], domain=[-1,  1], window=[-1,  1])],\n",
      "      dtype=object)]\n",
      "Public Key [array([[Polynomial([ 8., 13.,  8., 10.], domain=[-1,  1], window=[-1,  1]),\n",
      "        Polynomial([ 2., 10.,  0., 12.], domain=[-1,  1], window=[-1,  1])],\n",
      "       [Polynomial([9., 9., 4., 8.], domain=[-1,  1], window=[-1,  1]),\n",
      "        Polynomial([11.,  4.,  9.,  4.], domain=[-1,  1], window=[-1,  1])]],\n",
      "      dtype=object), [Polynomial([5., 7., 9., 2.], domain=[-1.,  1.], window=[-1.,  1.]), Polynomial([ 3., 23.,  7., 12.], domain=[-1.,  1.], window=[-1.,  1.])]]\n"
     ]
    }
   ],
   "source": [
    "privateKey=[s]\n",
    "print(\"Private Key: \",privateKey)\n",
    "publicKey=[A,t]\n",
    "print(\"Public Key\",publicKey)"
   ]
  },
  {
   "cell_type": "code",
   "execution_count": 16,
   "id": "76c4c986",
   "metadata": {},
   "outputs": [
    {
     "name": "stdout",
     "output_type": "stream",
     "text": [
      "[[Polynomial([ 8., 13.,  8., 10.], domain=[-1,  1], window=[-1,  1])\n",
      "  Polynomial([ 2., 10.,  0., 12.], domain=[-1,  1], window=[-1,  1])]\n",
      " [Polynomial([9., 9., 4., 8.], domain=[-1,  1], window=[-1,  1])\n",
      "  Polynomial([11.,  4.,  9.,  4.], domain=[-1,  1], window=[-1,  1])]]\n",
      "[[Polynomial([ 8., 13.,  8., 10.], domain=[-1,  1], window=[-1,  1])\n",
      "  Polynomial([9., 9., 4., 8.], domain=[-1,  1], window=[-1,  1])]\n",
      " [Polynomial([ 2., 10.,  0., 12.], domain=[-1,  1], window=[-1,  1])\n",
      "  Polynomial([11.,  4.,  9.,  4.], domain=[-1,  1], window=[-1,  1])]]\n"
     ]
    }
   ],
   "source": [
    "print(A)\n",
    "print(np.transpose(A))"
   ]
  },
  {
   "cell_type": "code",
   "execution_count": 17,
   "id": "e5f0ba9e",
   "metadata": {},
   "outputs": [],
   "source": [
    "r=publicKey2(3,2)\n",
    "e1=publicKey2(3,2)\n",
    "e2=publicKey2(3,1)"
   ]
  },
  {
   "cell_type": "code",
   "execution_count": 18,
   "id": "1fb262f3",
   "metadata": {},
   "outputs": [
    {
     "data": {
      "text/plain": [
       "[9, 0, 9, 9]"
      ]
     },
     "execution_count": 18,
     "metadata": {},
     "output_type": "execute_result"
    }
   ],
   "source": [
    "binMessage=bin(message)\n",
    "binMessage=binMessage[2:]\n",
    "coeff=[math.ceil(q/2)*int(i) for i in binMessage]\n",
    "coeff"
   ]
  },
  {
   "cell_type": "code",
   "execution_count": 19,
   "id": "50cb53de",
   "metadata": {},
   "outputs": [
    {
     "data": {
      "text/plain": [
       "[Polynomial([9., 0., 9., 9.], domain=[-1,  1], window=[-1,  1])]"
      ]
     },
     "execution_count": 19,
     "metadata": {},
     "output_type": "execute_result"
    }
   ],
   "source": [
    "m=[]\n",
    "m.append(poly(coeff))\n",
    "m"
   ]
  },
  {
   "cell_type": "code",
   "execution_count": 20,
   "id": "4a47836e",
   "metadata": {},
   "outputs": [
    {
     "data": {
      "text/plain": [
       "[Polynomial([14., 17.,  7., 27.], domain=[-1.,  1.], window=[-1.,  1.]),\n",
       " Polynomial([11., 13.,  5., 29.], domain=[-1.,  1.], window=[-1.,  1.])]"
      ]
     },
     "execution_count": 20,
     "metadata": {},
     "output_type": "execute_result"
    }
   ],
   "source": [
    "a=matrixMultiplication(2,np.transpose(A),r)\n",
    "\n",
    "u=[]\n",
    "for i in a:\n",
    "    u.append(poly(np.polydiv(i[0].coef,g)[1]%q))\n",
    "u=padd(2,u,e1)\n",
    "u"
   ]
  },
  {
   "cell_type": "code",
   "execution_count": 21,
   "id": "986edcf5",
   "metadata": {},
   "outputs": [
    {
     "data": {
      "text/plain": [
       "[Polynomial([22., 11., 14., 31.], domain=[-1.,  1.], window=[-1.,  1.])]"
      ]
     },
     "execution_count": 21,
     "metadata": {},
     "output_type": "execute_result"
    }
   ],
   "source": [
    "b=matrixMultiplication1(2,np.transpose(t),r)\n",
    "\n",
    "v=[]\n",
    "for i in b:\n",
    "    v.append(poly(np.polydiv(i[0].coef,g)[1]%q))\n",
    "\n",
    "\n",
    "v=padd(1,v,e2)\n",
    "v=padd(1,v,m)\n",
    "v"
   ]
  },
  {
   "cell_type": "code",
   "execution_count": 22,
   "id": "26f64cfc",
   "metadata": {
    "scrolled": true
   },
   "outputs": [
    {
     "data": {
      "text/plain": [
       "[[Polynomial([14., 17.,  7., 27.], domain=[-1.,  1.], window=[-1.,  1.]),\n",
       "  Polynomial([11., 13.,  5., 29.], domain=[-1.,  1.], window=[-1.,  1.])],\n",
       " [Polynomial([22., 11., 14., 31.], domain=[-1.,  1.], window=[-1.,  1.])]]"
      ]
     },
     "execution_count": 22,
     "metadata": {},
     "output_type": "execute_result"
    }
   ],
   "source": [
    "# Message has been Encrypted\n",
    "cipherText=[u,v]\n",
    "cipherText"
   ]
  },
  {
   "cell_type": "code",
   "execution_count": 23,
   "id": "1a5183de",
   "metadata": {},
   "outputs": [
    {
     "name": "stdout",
     "output_type": "stream",
     "text": [
      "[Polynomial([ 5.,  8.,  9., 12.], domain=[-1,  1], window=[-1,  1])]\n",
      "[Polynomial([22., 11., 14., 31.], domain=[-1.,  1.], window=[-1.,  1.])]\n"
     ]
    },
    {
     "data": {
      "text/plain": [
       "array([Polynomial([17.,  3.,  5., 19.], domain=[-1.,  1.], window=[-1.,  1.])],\n",
       "      dtype=object)"
      ]
     },
     "execution_count": 23,
     "metadata": {},
     "output_type": "execute_result"
    }
   ],
   "source": [
    "w=matrixMultiplication1(1,privateKey,u)\n",
    "mn=[]\n",
    "for i in w:\n",
    "    mn.append(poly(np.polydiv(i[0].coef,g)[1]%q))\n",
    "print(mn)\n",
    "print(v)\n",
    "mn=np.polysub(v,mn)\n",
    "mn\n"
   ]
  },
  {
   "cell_type": "code",
   "execution_count": 24,
   "id": "c23670a1",
   "metadata": {},
   "outputs": [
    {
     "data": {
      "text/plain": [
       "array([17.,  3.,  5., 19.])"
      ]
     },
     "execution_count": 24,
     "metadata": {},
     "output_type": "execute_result"
    }
   ],
   "source": [
    "arr=mn[0].coef\n",
    "arr"
   ]
  },
  {
   "cell_type": "code",
   "execution_count": 25,
   "id": "004c12a9",
   "metadata": {},
   "outputs": [
    {
     "name": "stdout",
     "output_type": "stream",
     "text": [
      "11\n"
     ]
    }
   ],
   "source": [
    "# Message has been decrypted\n",
    "message1=binaryToDecimal(int(closestNum(arr)))"
   ]
  },
  {
   "cell_type": "code",
   "execution_count": null,
   "id": "c4a1125a",
   "metadata": {},
   "outputs": [],
   "source": []
  },
  {
   "cell_type": "code",
   "execution_count": null,
   "id": "3bf120ff",
   "metadata": {},
   "outputs": [],
   "source": []
  },
  {
   "cell_type": "code",
   "execution_count": null,
   "id": "fa28e30d",
   "metadata": {},
   "outputs": [],
   "source": []
  },
  {
   "cell_type": "code",
   "execution_count": null,
   "id": "74553a03",
   "metadata": {},
   "outputs": [],
   "source": []
  }
 ],
 "metadata": {
  "kernelspec": {
   "display_name": "Python 3 (ipykernel)",
   "language": "python",
   "name": "python3"
  },
  "language_info": {
   "codemirror_mode": {
    "name": "ipython",
    "version": 3
   },
   "file_extension": ".py",
   "mimetype": "text/x-python",
   "name": "python",
   "nbconvert_exporter": "python",
   "pygments_lexer": "ipython3",
   "version": "3.9.7"
  }
 },
 "nbformat": 4,
 "nbformat_minor": 5
}
